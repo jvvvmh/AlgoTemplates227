{
 "cells": [
  {
   "cell_type": "code",
   "execution_count": 1,
   "metadata": {},
   "outputs": [],
   "source": [
    "import sympy as sp\n",
    "from sympy import *\n",
    "import numpy as np\n",
    "    \n",
    "def findLocalMinimaSum(expr):\n",
    "    x = Symbol('x')\n",
    "    f = sympify(expr)\n",
    "    gradient = derive_by_array(f, x)\n",
    "    stationary_points = solve(gradient, x)\n",
    "    hessian = sp.derive_by_array(gradient, x)\n",
    "    result = []\n",
    "    for p in stationary_points:\n",
    "        hess = hessian.subs(x, p)\n",
    "        if hess.is_real:\n",
    "            if hess.evalf() > 0:\n",
    "                result.append(p.evalf())\n",
    "    \n",
    "    if len(result) == 0:\n",
    "        return \"0.00\"\n",
    "    else:\n",
    "        result = np.sum(result)\n",
    "        return \"%.2f\" % result"
   ]
  },
  {
   "cell_type": "code",
   "execution_count": 2,
   "metadata": {},
   "outputs": [
    {
     "data": {
      "text/plain": [
       "'-0.33'"
      ]
     },
     "execution_count": 2,
     "metadata": {},
     "output_type": "execute_result"
    }
   ],
   "source": [
    "findLocalMinimaSum(\"3*x**2 + 2*x\")"
   ]
  }
 ],
 "metadata": {
  "kernelspec": {
   "display_name": "Python 3",
   "language": "python",
   "name": "python3"
  },
  "language_info": {
   "codemirror_mode": {
    "name": "ipython",
    "version": 3
   },
   "file_extension": ".py",
   "mimetype": "text/x-python",
   "name": "python",
   "nbconvert_exporter": "python",
   "pygments_lexer": "ipython3",
   "version": "3.7.7"
  },
  "toc": {
   "base_numbering": 1,
   "nav_menu": {},
   "number_sections": true,
   "sideBar": true,
   "skip_h1_title": false,
   "title_cell": "Table of Contents",
   "title_sidebar": "Contents",
   "toc_cell": false,
   "toc_position": {},
   "toc_section_display": true,
   "toc_window_display": true
  }
 },
 "nbformat": 4,
 "nbformat_minor": 2
}
